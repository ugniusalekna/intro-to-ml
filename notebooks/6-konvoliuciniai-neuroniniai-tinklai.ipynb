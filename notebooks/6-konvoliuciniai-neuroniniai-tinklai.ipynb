{
 "cells": [
  {
   "cell_type": "markdown",
   "metadata": {},
   "source": [
    "# Konvoliuciniai neuroniniai tinklai"
   ]
  },
  {
   "cell_type": "markdown",
   "metadata": {},
   "source": [
    "- David H. Hubel ir Torsten Wiesel 1958 m. atliko keletą eksperimentų su katėmis, kurie suteikė esminių įžvalgų apie regos žievės struktūrą. \n",
    "\n",
    "- Jie parodė, kad daugelis regos žievės neuronų turi mažą vietinį receptorinį lauką, t. y. jie reaguoja tik į ribotoje regos lauko srityje esančius regimuosius dirgiklius.\n",
    "\n",
    "- Be to, autoriai parodė, kad kai kurie neuronai reaguoja tik į horizontalių linijų vaizdus, o kiti - tik į skirtingų orientacijų linijas (du neuronai gali turėti tą patį recepcinį lauką, bet reaguoti į skirtingų orientacijų linijas).\n",
    "\n",
    "- Jie taip pat pastebėjo, kad kai kurie neuronai turi didesnius recepcinius laukus ir reaguoja į sudėtingesnius raštus, kurie yra žemesnio lygio raštų deriniai. \n",
    "\n",
    "- Visa tai lėmė konvoliucinio neuroninio tinklo architektūros išradimą."
   ]
  },
  {
   "cell_type": "markdown",
   "metadata": {},
   "source": [
    "## Konvoliucijos ir koreliacijos operacijos\n",
    "\n",
    "- Kryžminė koreliacija (angl. cross-correlation) yra dviejų sekų/funkcijų panašumo matas. Koreliacija kaip argumentus paima dvi funkcijas $f$ ir $g$, ir grąžina trečią, kuri, tam tikra prasme, parodo $f$ ir $g$ panašumo lygį.\n",
    "\n",
    "- Dažniausiai viena funkcija imama kaip fiksuotas filtras, dar vadinamas branduoliu (angl. kernel).\n",
    "\n",
    "- Diskrečioms vieno kintamojo funkcijoms kryžminės koreliacijos operacija apibrėžiama kaip:\n",
    "\n",
    "$$\n",
    "(f * g)(m) = \\sum_{n} f(n) \\cdot g(m + n)\n",
    "$$\n",
    "\n",
    "<div style=\"text-align: center;\">\n",
    "<img src=\"https://raw.githubusercontent.com/ugniusalekna/intro-to-ml/main/images/convolution.gif\" alt=\"correlation\" width=\"65%\">\n",
    "<p><strong>1.12 pav., Koreliacijos operacija </strong></p>\n",
    "</div>\n",
    "\n",
    "- Šiek tiek painu: konvoliucija ir koreliacija yra labai panašios operacijos; konvoliucija yra koreliacija su filtru, pasuktu 180 laipsnių.\n",
    "\n",
    "- Kadangi filtro svoriai nėra fiksuoti, nėra svarbu, ar atliekant operaciją filtrą apversime, ar ne, todėl skaičiavimų prasme, lengviau atlikti koreliacijos operaciją. \n",
    "\n",
    "- Taigi, konvoliuciniai neuroniniai tinklai iš tiesų naudoja kryžminę koreliaciją! "
   ]
  },
  {
   "cell_type": "markdown",
   "metadata": {},
   "source": [
    "\n",
    "### Vaizdo kaip funkcijos apibrėžimas\n",
    "\n",
    "- Vaizdą galima apibrėžti kaip dviejų kintamųjų funkciją $I(x, y)$ – pikselio intensyvumo reikšmė koordinatėse $(x, y)$. Vieno kanalo atveju (nespalvotas vaizdas) $I$ įgyja reikšmes nuo 0 iki 255 (arba kitas normalizuotas diapazonas, pvz., [0, 1]).\n",
    "\n",
    "### Koreliacijos operacija taikoma vaizdui\n",
    "\n",
    "- Koreliacija vaizdo apdorojime taikoma naudojant nedidelį filtrą (branduolį) $\\mathbf{K}$, kuris slysta per visą vaizdą $ I(x, y) $. Kiekviename žingsnyje atliekama skaliarinė sandauga tarp filtro ir atitinkamos vaizdo dalies:\n",
    "\n",
    "$$\n",
    "(I * K)(x, y) = \\sum_{i=0}^{f_h-1} \\sum_{j=0}^{f_w-1} I(x+i, y+j) \\cdot K(i, j)\n",
    "$$\n",
    "\n",
    "  - Čia:\n",
    "    - $ I(x+i, y+j) $ yra įvesties vaizdo reikšmė pozicijoje $ (x+i, y+j) $,\n",
    "    - $ K(i, j) $ yra filtro (branduolio) reikšmė pozicijoje $ (i, j) $,\n",
    "    - $ (I * K)(x, y) $ yra išvesties reikšmė pozicijoje $ (x, y) $.\n",
    "\n",
    "### Koreliacijos operacijos pavyzdys\n",
    "\n",
    "- Tarkime, turime 3x3 dydžio filtrą (branduolį) $ K $ ir 6x6 dydžio vaizdą $ I $:\n",
    "\n",
    "<div style=\"text-align: center;\">\n",
    "<img src=\"https://raw.githubusercontent.com/ugniusalekna/intro-to-ml/main/images/conv_dotprod.gif\" alt=\"correlation dot product\" width=\"65%\">\n",
    "<p><strong>1.12 pav., Skaliarinė sandauga tarp vaizdo dalies ir filtro  </strong></p>\n",
    "</div>\n",
    "\n",
    "- Koreliacijos operacija atliekama pasirinktoje pozicijoje, pavyzdžiui, kai filtro viršutinis kairysis kampas sutampa su vaizdo tašku (1, 1) (antra eilutė, antra stulpelis):\n",
    "\n",
    "$$\n",
    "\\text{Output}(2, 2) = (1 \\times 0) + (5 \\times 1) + (8 \\times 0) + (7 \\times 1) + (2 \\times -4) + (2 \\times 1) + (3 \\times 0) + (1 \\times 1) + (5 \\times 0) = 10\n",
    "$$\n",
    "\n",
    "- Šis skaičiavimas kartojamas kiekvienam pikseliui, ir gauname naują išvesties vaizdą, kur kiekviena reikšmė yra koreliacijos rezultatas.\n",
    "\n",
    "### Filtrai ir jų poveikis\n",
    "\n",
    "- **Gaussiškas Filtras**: \n",
    "    - Šis filtras naudojamas vaizdams išlyginti (smooth). Gaussiškas filtras turi aukštą vidurio koeficientą, kuris palaipsniui mažėja į šonus:\n",
    "\n",
    "$$\n",
    "G = \\frac{1}{16}\\begin{bmatrix}\n",
    "1 & 2 & 1 \\\\\n",
    "2 & 4 & 2 \\\\\n",
    "1 & 2 & 1\n",
    "\\end{bmatrix}\n",
    "$$\n",
    "\n",
    "    - Taikant tokį filtrą, vaizdas tampa mažiau triukšmingas ir švelnesnis.\n",
    "\n",
    "- **Kraštų Aptikimo Filtras** (Sobelio filtras):\n",
    "    - Šis filtras naudojamas aptikti kraštus vaizde:\n",
    "\n",
    "$$\n",
    "S_x = \\begin{bmatrix}\n",
    "-1 & 0 & 1 \\\\\n",
    "-2 & 0 & 2 \\\\\n",
    "-1 & 0 & 1\n",
    "\\end{bmatrix}, \\quad\n",
    "S_y = \\begin{bmatrix}\n",
    "-1 & -2 & -1 \\\\\n",
    "0 & 0 & 0 \\\\\n",
    "1 & 2 & 1\n",
    "\\end{bmatrix}\n",
    "$$\n",
    "\n",
    "    - Pirmas filtras aptinka vertikalius kraštus, o antras – horizontalius. Jų derinys gali būti naudojamas aptikti visus kraštus vaizde.\n",
    "\n",
    "- **Laplaciano Filtras**:\n",
    "    - Tai antrosios išvestinės filtras, kuris pabrėžia kraštus, bet kartu paryškina triukšmą:\n",
    "\n",
    "$$\n",
    "L = \\begin{bmatrix}\n",
    "0 & 1 & 0 \\\\\n",
    "1 & -4 & 1 \\\\\n",
    "0 & 1 & 0\n",
    "\\end{bmatrix}\n",
    "$$\n",
    "\n",
    "    - Taikant šį filtrą, paryškinami kraštai ir kontūrai, kurie yra staigūs perėjimai vaizde.\n",
    "\n",
    "### Išvada\n",
    "\n",
    "Koreliacijos ir konvoliucijos operacijos yra esminės vaizdo apdorojimo technikos, leidžiančios išgauti ir analizuoti įvairias vaizdo ypatybes. Pasitelkiant skirtingus filtrus, galima atlikti įvairius veiksmus, tokius kaip triukšmo mažinimas, kraštų aptikimas ar tekstūrų paryškinimas. Šie metodai yra plačiai naudojami kompiuterinėje regos sistemoje ir kitose srityse, kur svarbu analizuoti vizualinę informaciją."
   ]
  },
  {
   "cell_type": "code",
   "execution_count": 1,
   "metadata": {},
   "outputs": [],
   "source": [
    "import numpy as np\n",
    "\n",
    "def correlation(image, filter):\n",
    "\n",
    "    output_image = np.copy(image)\n",
    "    \n",
    "    image_width, image_length = image.shape\n",
    "    filter_width, filter_length = filter.shape\n",
    "\n",
    "    for i in range(image_width):\n",
    "        for j in range(image_length):\n",
    "    \n",
    "            image_region = image[i:i+filter_width, j:j+filter_length]\n",
    "    \n",
    "            if image_region.shape == filter.shape:\n",
    "                correlation = np.sum(image_region * filter)\n",
    "                output_image[i + (filter_width-1)//2, j + (filter_length-1)//2] = correlation\n",
    "\n",
    "    return output_image\n",
    "\n",
    "\n",
    "def apply_filter(image, filter):    \n",
    "    return correlation(image, filter)"
   ]
  },
  {
   "cell_type": "markdown",
   "metadata": {},
   "source": [
    "## Konvoliucinis sluoksnis\n",
    "\n",
    "- Svarbiausias struktūrinis blokas yra konvoliucinis sluoksnis – pirmojo konvoliucinio sluoksnio neuronai prijungiami ne prie kiekvieno įvesties vaizdo pikselio (kaip ankstesniuose skyriuose), o tik prie pikselių, esančių jų recepciniame lauke. \n",
    "- Savo ruožtu kiekvienas antrojo konvoliucinio sluoksnio neuronas yra sujungtas tik su neuronais, esančiais nedideliame stačiakampyje pirmajame sluoksnyje. \n",
    "- Tokia architektūra leidžia tinklui pirmajame paslėptajame sluoksnyje sutelkti dėmesį į žemo lygio požymius, tada kitame paslėptajame sluoksnyje juos surinkti į aukštesnio lygio požymius ir t.t. \n",
    "- Tokia hierarchinė struktūra būdinga vaizdo apdorojimui gyvūnų smegenyse.\n",
    "\n",
    "\n",
    "<div style=\"text-align: center;\">\n",
    "<img src=\"https://raw.githubusercontent.com/ugniusalekna/intro-to-ml/main/images/receptive_field.png\" alt=\"receptive-field\" width=\"65%\">\n",
    "<p><strong>1.12 pav., Konvoliucinių sluoksnių receptinis laukas </strong></p>\n",
    "</div>"
   ]
  },
  {
   "cell_type": "markdown",
   "metadata": {},
   "source": [
    "### Nulių pridėjimas (angl. zero-padding)\n",
    "\n",
    "Tam tikro sluoksnio $i$ eilutėje, $j$ stulpelyje esantis neuronas yra sujungtas su ankstesnio sluoksnio neuronų, esančių nuo $i$ iki $i + f_h - 1$, nuo $j$ iki $j + f_w - 1$ eilutėse, išėjimais, kur $f_h$ ir $f_w$ yra recepcinio lauko aukštis ir plotis. Kad sluoksnis būtų tokio paties aukščio ir pločio kaip ankstesnis sluoksnis, aplink įvesties matricą reikia pridėti nulius. 1.13 pav., $5 \\times 7$ įvesties dydžio įvesties sluoksnis papildomas nulių paraštėmis iš visų pusių, kad tolimesnis sluoksnis taip pat būtų $5 \\times 7$ dydžio.\n",
    "\n",
    "<div style=\"text-align: center;\">\n",
    "<img src=\"https://raw.githubusercontent.com/ugniusalekna/intro-to-ml/main/images/zero_padding.png\" alt=\"zero-padding\" width=\"65%\">\n",
    "<p><strong>1.13 pav., Nulių pridėjimo operacija </strong></p>\n",
    "</div>"
   ]
  },
  {
   "cell_type": "markdown",
   "metadata": {},
   "source": [
    "### Konvoliucijos filtro žingsnis (angl. stride)\n",
    "\n",
    "Didelės rezoliucijos įvesties sluoksniai gali būti sujungti su daug mažesnės rezoliucijos sluoksniu, išdėstant receptorinius laukus su didesniais tarpais tarp jų. Atstumas tarp dviejų vienas po kito einančių recepcinių laukų vadinamas konvoliucijos filtro žingsniu. 1.14 pav. $5 \\times 7$ įvesties sluoksnis (plius zero-pad) sujungtas su $3 \\times 4$ sluoksniu, naudojant $3 \\times 3$ recepcinius laukus ir žingsnį lygų $2$. Viršutinio sluoksnio $i$ eilutėje, $j$ stulpelyje esantis neuronas yra sujungtas su ankstesnio sluoksnio neuronų, esančių nuo $i \\times s_h$ iki $i \\times s_h + f_h - 1$ eilutėse, $j \\times s_w + f_w - 1$ stulpeliuose, išėjimais, kur $s_h$ ir $s_w$ yra žingsnių dydžiai vertikalia ir horizontalia kryptimi.\n",
    "\n",
    "<div style=\"text-align: center;\">\n",
    "<img src=\"https://raw.githubusercontent.com/ugniusalekna/intro-to-ml/main/images/stride.png\" alt=\"stride\" width=\"65%\">\n",
    "<p><strong>1.14 pav., Konvoliucijos filtro žingsnis </strong></p>\n",
    "</div>"
   ]
  },
  {
   "cell_type": "markdown",
   "metadata": {},
   "source": [
    "Puiki vizualizacija: [CNN Explainer](https://poloclub.github.io/cnn-explainer/)"
   ]
  }
 ],
 "metadata": {
  "kernelspec": {
   "display_name": "py311",
   "language": "python",
   "name": "python3"
  },
  "language_info": {
   "codemirror_mode": {
    "name": "ipython",
    "version": 3
   },
   "file_extension": ".py",
   "mimetype": "text/x-python",
   "name": "python",
   "nbconvert_exporter": "python",
   "pygments_lexer": "ipython3",
   "version": "3.11.9"
  }
 },
 "nbformat": 4,
 "nbformat_minor": 2
}
