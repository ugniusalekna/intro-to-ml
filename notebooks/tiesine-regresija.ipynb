{
 "cells": [
  {
   "cell_type": "markdown",
   "metadata": {},
   "source": [
    "# Tolydaus kintamojo prognozės uždavinys"
   ]
  },
  {
   "cell_type": "markdown",
   "metadata": {},
   "source": [
    "- Sprendžiamas tolydaus kintamojo prognozės uždavinys, kurio tikslas – parinkti funkciją $f$ su kuria kuo tiksliau galėtume nustatyti kintamojo $y$ reikšmes pagal nepriklausomo kintamojo $x$ reikšmes, t.y. taip, kad lygybė $f(x) \\approx y$ būtų kiek įmanoma tikslesnė.\n",
    "\n",
    "- Dažniausias scenarijus – $y \\in \\mathbb{R}$, $x \\in \\mathbb{R}^{k}$, $k \\in \\mathbb{N}$. Tokiu atveju, vektorius žymėsime paryškintu šriftu, t.y., $\\textbf{x} := (x_1, x_2, ..., x_k)^T \\in \\mathbb{R}^{k}$, o skaliarus įprastai – $y := y \\in \\mathbb{R}$.\n",
    "\n",
    "- Porų $(\\textbf{x}^{(i)}, y^{(i)}), i = 1, ..., n$ imtis vadinama apmokymo aibe (*pastaba*: indeksai viršuje nėra laipsniai). Norėdami dar labiau sutraukti žymėjimus, galime įvesti matricinį apmokymo aibės nepriklausomų kintamųjų pavidalą; matricą žymėsime didžiąja raide:\n",
    "\n",
    "\n",
    "$$\n",
    "\\textbf{X} = \n",
    "\\begin{pmatrix}\n",
    "\\textbf{x}^{(1)} \\\\\n",
    "\\textbf{x}^{(2)} \\\\\n",
    "\\vdots \\\\\n",
    "\\textbf{x}^{(n)}\n",
    "\\end{pmatrix}\n",
    "= \n",
    "\\begin{pmatrix}\n",
    "x_{11} & x_{12} & \\dots & x_{1k} \\\\\n",
    "x_{21} & x_{22} & \\dots & x_{2k} \\\\\n",
    "\\vdots & \\vdots & \\ddots & \\vdots \\\\\n",
    "x_{m1} & x_{n2} & \\dots & x_{nk}\n",
    "\\end{pmatrix}\n",
    "$$\n",
    "\n",
    "&nbsp;&nbsp;&nbsp;&nbsp;&nbsp;&nbsp;&nbsp;&nbsp; Tokiu atveju, priklausomų kintamųjų vektorius, bus žymimas:\n",
    "\n",
    "$$\n",
    "\\textbf{y} = \n",
    "\\begin{pmatrix}\n",
    "y^{(1)} \\\\\n",
    "y^{(2)} \\\\\n",
    "\\vdots \\\\\n",
    "y^{(n)}\n",
    "\\end{pmatrix}\n",
    "$$\n",
    "\n",
    "- Funkcija $f$ MM kontekste vadinama hipoteze (angl. hypothesis), taigi, ji dažnai žymima raide $h$ (*pastaba*: MM hipotezė žymi visiškai kitą sąvoką nei statistikoje). Tolydaus kintamojo prognozės uždavinyje dar vadinama regresoriumi (angl. regressor)."
   ]
  },
  {
   "cell_type": "markdown",
   "metadata": {},
   "source": [
    "## Tiesinė regresija"
   ]
  },
  {
   "cell_type": "markdown",
   "metadata": {},
   "source": [
    "- Tiesinė regresija yra vienas iš elementariausių mašininio mokymosi algoritmų, naudojamų tolydaus kintamojo prognozės uždaviniams.\n",
    "\n",
    "- Tiesinės regresijos tikslas – rasti geriausiai duomenų taškus atitinkančią tiesę (regresijos tiesę). Ši tiesė (tiesinės regresijos hipotezė) taške $\\textbf{x}$ apibrėžiama lygtimi:\n",
    "\n",
    "$$\n",
    "\\hat{y} = \\theta_0 + \\theta_1 x_1 + \\theta_2 x_2 + ... + \\theta_k x_k\n",
    "$$"
   ]
  },
  {
   "cell_type": "markdown",
   "metadata": {},
   "source": [
    "- Lygties parametrai $\\theta_1, \\theta_2, ..., \\theta_k$ vadinami krypties koeficientais (angl. coefficients), o parametras $\\theta_0$ – pastovus narys (angl. intercept).\n",
    "\n",
    "- Jeigu pažymime $\\boldsymbol{\\theta} = (\\theta_1, \\theta_2, ..., \\theta_k)^T$ ir $x_0 := 1$, tuomet nepriklausomų kintamųjų vektorių galime užrašyti kaip $\\textbf{x} = (x_0, x_1, ..., x_k)^T = (1, x_1, ..., x_k)^T \\in \\mathbb{R^{k+1}}$. Tada, tiesinės regresijos hipotezės taške $\\textbf{x}$ vektorinis pavidalas yra:\n",
    "$$\n",
    "\\hat{y} = h(\\textbf{x}) = \\boldsymbol{\\theta}^T \\cdot \\textbf{x}\n",
    "$$"
   ]
  },
  {
   "cell_type": "markdown",
   "metadata": {},
   "source": [
    "- Siekiant atkreipti dėmesį, kad hipotezės funkcija $h$ priklauso ne tik nuo kintamųjų $\\textbf{x}$, bet ir nuo parametrų $\\boldsymbol{\\theta}$, dažnai žymime:\n",
    "$$\n",
    "h(\\textbf{x}) := h_{\\boldsymbol{\\theta}}(\\textbf{x})\n",
    "$$"
   ]
  },
  {
   "cell_type": "markdown",
   "metadata": {},
   "source": [
    "- Taigi, apsibrėžėme tiesinės regresijos hipotezę $h_{\\boldsymbol{\\theta}}$, tačiau kaip ją apmokyti? Šiuo atveju, modelio apmokymas reiškia geriausio parametrų rinkinio suradimą. Norint surasti geriausią parametrų rinkinį turime išmatuoti, kaip gerai (ar blogai) modelis tinka mokymo duomenims. Dažniausiai naudojamas tiesinės regresijos tikslumo matas yra standartinis nuokrypis (angl. root mean squared error, RMSE) – tai matas, nusakantis atsitiktinio dydžio įgyjamų reikšmių nuokrypį nuo vidurkio. Standartinis nuokrypis apibrėžiamas formule:\n",
    "\n",
    "$$\n",
    "\\text{RMSE}(\\textbf{X}, h_{\\boldsymbol{\\theta}}) = \\sqrt{\\frac{1}{n} \\sum_{i=1}^{n} \\left(h_{\\boldsymbol{\\theta}}(\\textbf{x}^{(i)}) - y^{(i)} \\right)^2}\n",
    "$$\n"
   ]
  },
  {
   "cell_type": "markdown",
   "metadata": {},
   "source": [
    "- Norint išmokyti tiesinės regresijos modelį, reikia rasti tokią $\\boldsymbol{\\theta}$ vertę, kuri minimizuotų RMSE. Praktikoje paprasčiau minimizuoti vidutinę kvadratinę paklaidą (angl. mean squared error, MSE) nei RMSE, nes tai duoda tą patį rezultatą: \n",
    "\n",
    "$$\n",
    "\\text{MSE}(\\textbf{X}, h_{\\boldsymbol{\\theta}}) = \\frac{1}{n} \\sum_{i=1}^{n} \\left(h_{\\boldsymbol{\\theta}}(\\textbf{x}^{(i)}) - y^{(i)} \\right)^2\n",
    "$$"
   ]
  },
  {
   "cell_type": "markdown",
   "metadata": {},
   "source": [
    "### Išreikštinis pavidalas\n",
    "\n",
    "- Tiesinės regresijos modelis yra išskirtinis, kadangi parametrus $\\boldsymbol{\\theta}$ galime rasti išreikštiniu būdu, t.y. išspręsti minimizavimo uždavinį:\n",
    "\n",
    "$$\n",
    "\\text{MSE} \\min_{\\boldsymbol{\\theta}} \\text{MSE}(\\textbf{X}, h_{\\boldsymbol{\\theta}}) = \\min_{\\boldsymbol{\\theta}} \\frac{1}{n} \\sum_{i=1}^{n} \\left( \\boldsymbol{\\theta}^T \\cdot \\textbf{x}^{(i)} - y^{(i)} \\right)^2\n",
    "$$\n"
   ]
  },
  {
   "cell_type": "markdown",
   "metadata": {},
   "source": [
    "&nbsp;&nbsp;&nbsp;&nbsp;&nbsp;&nbsp;&nbsp;&nbsp; Perrašydami MSE lygtį matriciniu pavidalu gauname išraišką:\n",
    "\n",
    "$$\n",
    "\\text{MSE}(\\textbf{X}, h_{\\boldsymbol{\\theta}}) = \\frac{1}{n} (\\textbf{X} \\boldsymbol{\\theta} - \\textbf{y} )^T (\\textbf{X} \\boldsymbol{\\theta} - \\textbf{y} ) = \\frac{1}{n} (\\boldsymbol{\\theta}^T \\textbf{X}^T - \\textbf{y} ^T) (\\textbf{X} \\boldsymbol{\\theta} - \\textbf{y} ) = \\frac{1}{n} (\\boldsymbol{\\theta}^T \\textbf{X}^T \\textbf{X} \\boldsymbol{\\theta} - \\boldsymbol{\\theta}^T \\textbf{X}^T \\textbf{y}  - \\textbf{y} ^T \\textbf{X} \\boldsymbol{\\theta} + \\textbf{y} ^T \\textbf{y} )\n",
    "$$\n",
    "\n",
    "- Remiantis optimizavimo teorijos rezultatais, žinome, jog būtent ši funkcija yra iškila, t.y. funkcija turi vieną globalų minimumo tašką. Jį galime rasti prisilyginę funkcijos išvestinę pagal koeficientus $\\boldsymbol{\\theta}$ nuliui (*pastaba*: šiuo atveju dalinę išvestinę pagal vektorių, tačiau tai intuicijos nekeičia, tik formulės kiek skiriasi):\n",
    "\n",
    "$$\n",
    "\\frac{\\partial}{\\partial \\boldsymbol{\\theta}} \\text{MSE}(\\textbf{X}, h_{\\boldsymbol{\\theta}}) = \\frac{\\partial}{\\partial \\boldsymbol{\\theta}} \\left( \\frac{1}{n} (\\boldsymbol{\\theta}^T \\textbf{X}^T \\textbf{X} \\boldsymbol{\\theta} - \\boldsymbol{\\theta}^T \\textbf{X}^T \\textbf{y}  - \\textbf{y} ^T \\textbf{X} \\boldsymbol{\\theta} + \\textbf{y} ^T \\textbf{y} ) \\right) = \\frac{2}{n} \\left( \\textbf{X}^T \\textbf{X} \\boldsymbol{\\theta} - \\textbf{X}^T \\textbf{y}  \\right)\n",
    "$$\n",
    "\n",
    "- Prisilyginus išvestinę nuliui gauname išreikštinę formą koeficientams suskaičiuoti:\n",
    "\n",
    "$$\n",
    "\\frac{2}{n} \\left( \\textbf{X}^T \\textbf{X} \\boldsymbol{\\theta} - \\textbf{X}^T \\textbf{y}  \\right) = 0 \\iff \\textbf{X}^T \\textbf{X} \\boldsymbol{\\theta} = \\textbf{X}^T \\textbf{y}  \\iff \\boldsymbol{\\theta} = (\\textbf{X}^T \\textbf{X})^{-1} \\textbf{X}^T \\textbf{y} \n",
    "\n",
    "$$\n"
   ]
  },
  {
   "cell_type": "markdown",
   "metadata": {},
   "source": [
    "- Įsitikinkime, jog formulė tikrai veikia:"
   ]
  },
  {
   "cell_type": "code",
   "execution_count": 2,
   "metadata": {},
   "outputs": [],
   "source": [
    "import numpy as np\n",
    "\n",
    "np.random.seed(42)\n",
    "n, k = 100, 1\n",
    "\n",
    "X = 2 * np.random.rand(n, k) # Matrix of independent arguments\n",
    "y = 4 + 3 * X + np.random.randn(n, 1) # Vector / matrix of dependent target variable"
   ]
  },
  {
   "cell_type": "code",
   "execution_count": 30,
   "metadata": {},
   "outputs": [
    {
     "data": {
      "image/png": "[encoded data removed]",
      "text/plain": [
       "<Figure size 600x400 with 1 Axes>"
      ]
     },
     "metadata": {},
     "output_type": "display_data"
    }
   ],
   "source": [
    "import matplotlib.pyplot as plt\n",
    "\n",
    "plt.figure(figsize=(6, 4))\n",
    "plt.scatter(X, y)\n",
    "plt.xlabel(\"$X$\")\n",
    "plt.ylabel(\"$y$\", rotation=0)\n",
    "plt.axis([0, 2, 0, 15])\n",
    "plt.grid()\n",
    "plt.show()"
   ]
  },
  {
   "cell_type": "code",
   "execution_count": 31,
   "metadata": {},
   "outputs": [
    {
     "name": "stdout",
     "output_type": "stream",
     "text": [
      "Intercept: 4.2151; Coefficient 2.7701\n"
     ]
    }
   ],
   "source": [
    "from sklearn.preprocessing import add_dummy_feature\n",
    "\n",
    "X_b = add_dummy_feature(X)  # add x0 = 1 to each instance\n",
    "theta_best = np.linalg.inv(X_b.T @ X_b) @ X_b.T @ y\n",
    "\n",
    "print(f'Intercept: {theta_best[0].item():.4f}; Coefficient {theta_best[1].item():.4f}')"
   ]
  },
  {
   "cell_type": "code",
   "execution_count": 34,
   "metadata": {},
   "outputs": [
    {
     "data": {
      "image/png": "[encoded data removed]",
      "text/plain": [
       "<Figure size 600x400 with 1 Axes>"
      ]
     },
     "metadata": {},
     "output_type": "display_data"
    }
   ],
   "source": [
    "plt.figure(figsize=(6, 4))\n",
    "plt.scatter(X, y)\n",
    "plt.plot(X, X_b@theta_best, 'r')\n",
    "plt.xlabel(\"$X$\")\n",
    "plt.ylabel(\"$y$\", rotation=0)\n",
    "plt.axis([0, 2, 0, 15])\n",
    "plt.grid()\n",
    "plt.show()"
   ]
  }
 ],
 "metadata": {
  "kernelspec": {
   "display_name": "py311",
   "language": "python",
   "name": "python3"
  },
  "language_info": {
   "codemirror_mode": {
    "name": "ipython",
    "version": 3
   },
   "file_extension": ".py",
   "mimetype": "text/x-python",
   "name": "python",
   "nbconvert_exporter": "python",
   "pygments_lexer": "ipython3",
   "version": "3.11.9"
  }
 },
 "nbformat": 4,
 "nbformat_minor": 2
}
