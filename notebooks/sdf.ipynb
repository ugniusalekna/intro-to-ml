{
 "cells": [
  {
   "cell_type": "markdown",
   "metadata": {},
   "source": [
    "# SDFdjsfjns"
   ]
  },
  {
   "cell_type": "code",
   "execution_count": 3,
   "metadata": {},
   "outputs": [
    {
     "data": {
      "application/vnd.jupyter.widget-view+json": {
       "model_id": "19f91a14d2644b289181e81dcf80dc16",
       "version_major": 2,
       "version_minor": 0
      },
      "text/plain": [
       "interactive(children=(FloatSlider(value=1.0, description='Initial Point', max=3.0, min=-1.5), FloatSlider(valu…"
      ]
     },
     "execution_count": 3,
     "metadata": {},
     "output_type": "execute_result"
    }
   ],
   "source": [
    "import numpy as np\n",
    "import matplotlib.pyplot as plt\n",
    "from ipywidgets import interactive, FloatSlider\n",
    "\n",
    "def function(w):\n",
    "    return w**4 - 3*w**3 + 3*w\n",
    "\n",
    "def gradient(w):\n",
    "    return 4*w**3 - 9*w**2 + 3\n",
    "\n",
    "def gradient_descent(func, grad, initial_point, learning_rate=0.01, num_iterations=100, tol=1e-6):\n",
    "    w = initial_point\n",
    "    path = [w]\n",
    "    \n",
    "    for _ in range(num_iterations):\n",
    "        new_w = w - learning_rate * grad(w)\n",
    "        path.append(new_w)\n",
    "        \n",
    "        if abs(func(new_w) - func(w)) < tol:\n",
    "            break\n",
    "            \n",
    "        w = new_w\n",
    "    \n",
    "    return np.array(path)\n",
    "\n",
    "def plot_gradient_descent(initial_point, learning_rate):\n",
    "    path = gradient_descent(function, gradient, initial_point=initial_point, learning_rate=learning_rate)\n",
    "    \n",
    "    w = np.linspace(-1.5, 3, 100)\n",
    "    f = function(w)\n",
    "    \n",
    "    fig, ax = plt.subplots(figsize=(10, 6))\n",
    "    \n",
    "    ax.plot(w, f, label='Objective Function')\n",
    "    ax.quiver(path[:-1], function(path[:-1]), path[1:] - path[:-1], function(path[1:]) - function(path[:-1]),\n",
    "            scale_units='xy', angles='xy', scale=3, color='red')\n",
    "    ax.plot(path, function(path), color='red', linestyle='--', label='Gradient Descent Path')\n",
    "    \n",
    "    final_point = path[-1]\n",
    "    final_value = function(final_point)\n",
    "\n",
    "    ax.annotate(f'Final Point\\nw={final_point:.4f}\\nf(w)={final_value:.4f}', \n",
    "                xy=(final_point, final_value), \n",
    "                xytext=(final_point + 0.1, final_value + 1),\n",
    "            arrowprops=dict(facecolor='blue', shrink=0.05, headlength=5, headwidth=5, width=1),\n",
    "                fontsize=10, color='black', backgroundcolor='white', bbox=dict(facecolor='white', alpha=0.8))\n",
    "\n",
    "    ax.set_title(f\"Gradient Descent (lr={learning_rate:.4f}, start={initial_point:.4f})\")\n",
    "    ax.set_xlabel('w')\n",
    "    ax.set_ylabel('f(w)')\n",
    "    ax.legend()\n",
    "    ax.grid(True)\n",
    "    \n",
    "    plt.show()\n",
    "    \n",
    "interactive(plot_gradient_descent, \n",
    "         initial_point=FloatSlider(value=1.0, min=-1.5, max=3, step=0.1, description='Initial Point'),\n",
    "         learning_rate=FloatSlider(value=0.1, min=0.001, max=0.1, step=0.001, description='Learning Rate', \n",
    "                                   style={'description_width': '100px'}))\n",
    "\n"
   ]
  }
 ],
 "metadata": {
  "kernelspec": {
   "display_name": "py311",
   "language": "python",
   "name": "python3"
  },
  "language_info": {
   "codemirror_mode": {
    "name": "ipython",
    "version": 3
   },
   "file_extension": ".py",
   "mimetype": "text/x-python",
   "name": "python",
   "nbconvert_exporter": "python",
   "pygments_lexer": "ipython3",
   "version": "3.11.9"
  }
 },
 "nbformat": 4,
 "nbformat_minor": 2
}
