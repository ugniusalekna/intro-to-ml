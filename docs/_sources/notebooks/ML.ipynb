{
 "cells": [
  {
   "cell_type": "markdown",
   "metadata": {},
   "source": [
    "# Įvadas į mašininį mokymąsi"
   ]
  },
  {
   "cell_type": "markdown",
   "metadata": {},
   "source": [
    "## Trumpas apie"
   ]
  },
  {
   "cell_type": "markdown",
   "metadata": {},
   "source": [
    "### Greita istorija\n",
    "\n",
    "- Mašininio mokymosi (MM, angl. *Machine Learning, ML*) sąvoka pirmą kartą paminėta dar 1959 m., IBM tyrėjo Arthur Samuel --   vieno iš dirbtinio intelekto (DI, angl. *Artificial Intelligence, AI*) srities pradininkų. MM dėl to dažnai vadinamas DI mokslo šaka, apimančia įvairios intelektinės veiklos, kaip mokymosi, suvokimo, loginio mąstymo ir problemų sprendimo aspektus.  \n",
    "\n",
    "- Nuo to laiko, MM tapo savarankiška tarpdisciplinine sritimi. Joje daugiausia dėmesio skiriama mokymosi procesų automatizavimui panaudojant *tikimybių teorijos*, *statistikos*, *optimizavimo*, *informacijos teorijos* ir *algoritmų teorijos* rezultatus. \n",
    "\n",
    "- Dabar MM dažnai laikoma *informatikos* mokslų disciplina.\n",
    "\n",
    "> [Machine Learning is the] field of study that gives computers the ability to learn without being explicitly programmed.\n",
    "> \n",
    "> — **Arthur Samuel, 1959**"
   ]
  },
  {
   "cell_type": "markdown",
   "metadata": {},
   "source": [
    "### Mokymasis iš duomenų\n",
    "\n",
    "- MM kontekste mokymosi sąvoka sutapatinama su *mokymosi iš duomenų* (angl. *learning from data*) sąvoka.\n",
    "\n",
    "- Mokymusi iš duomenų galima pavadinti procesą, kurio metu duomenyse esanti informacija \"suvirškinama\" ištraukiant esminius požymius bei, galiausiai, paverčiama rezultatais ar išvadomis. \n",
    "\n",
    "\n",
    "#### Pavyzdžiai (realūs)\n",
    "\n",
    "a) Gydytojai, norėdami diagnozuoti ligą, analizuoja pacientų simptomus, ligos istorijas, tyrimų rezultatus (duomenis). Įgaudami daugiau patirties, jie vis geriau atpažįsta simptomų ir tyrimų rezultatų dėsningumus, rodančius konkrečias ligas.\n",
    "\n",
    "b) Vaikai klausosi juos supančios šnekamosios kalbos (duomenų). Laikui bėgant, bandydami mėgdžioti žodžius ir sakinius, jie išmoksta struktūrą ir taisykles.\n",
    "\n",
    "<hr style=\"border: none; height: 2px; background-color: black;\">\n",
    "\n",
    "- Taigi, MM pastarąjį mokymąsi iš duomenų siekia aprašyti griežtai. \n",
    "\n",
    "- MM srityje dirbantys ekspertai siekia:\n",
    "    - aiškiai apibrėžti mokymosi iš duomenų sąvoką;\n",
    "    - kurti mokymosi modelius konkrečių uždavinių sprendimui;\n",
    "    - kiekybiškai įvertinti mokymuisi reikalingus resursus;\n",
    "    - vystyti efektyvius algoritmus, skirtus mokymosi automatizavimui;\n",
    "    - kurti specializuotą programinę įrangą mokymosi modeliams įgyvendinti.\n",
    "\n",
    "- MM sritis plėtojama įvairiai -- tiek taikant teorinę matematiką, siekiant apskaičiuoti įvairius įverčius ar užtikrinti teorines garantijas, tiek atliekant empirinius tyrimus, bandant palyginti algoritmų veikimus ar siekiant rasti tam tikras charakteristikas, tiek plėtojant praktinius programinės įrangos (angl. software) paketus.\n",
    "\n",
    "> A computer program is said to learn from experience E with respect to some task T and some performance measure P, if its performance on T, as measured by P, improves with experience E.\n",
    "> \n",
    "> — **Tom Mitchell, 1997**\n"
   ]
  },
  {
   "cell_type": "markdown",
   "metadata": {},
   "source": [
    "### Tradicinis programavimas vs. mašininis mokymasis\n",
    "\n",
    "- Taisyklių kūrimas:\n",
    "    - **Tradicinis programavimas**: Taisyklės nustatomos rankiniu būdu, remiantis konkrečiais stebėjimais;\n",
    "    - **Mašininis mokymasis**: MM algoritmai automatiškai išmoksta taisykles iš duomenų;\n",
    "    \n",
    "- Prisitaikymas:\n",
    "    - **Tradicinis programavimas**: Laikui bėgant, taisykles reikia atnaujinti rankiniu būdu;\n",
    "    - **Mašininis mokymasis**: MM modeliai gali automatiškai prisitaikyti prie pokyčių apmokant modelius su naujais duomenimis;\n",
    "\n",
    "- Sudėtingumas:\n",
    "    - **Tradicinis programavimas**: Sudėtingoms problemoms spręsti tradiciniai metodai dažnai reikalauja ilgos loginės sekos, komplikuotos kodo struktūros.\n",
    "    - **Mašininis mokymasis**: MM supaprastina procesą, nes dėmesys sutelkiamas į duomenis, o sudėtingumą valdo mokymosi algoritmas, todėl kodas yra trumpesnis ir lengviau prižiūrimas.\n",
    "\n",
    "\n",
    "![The traditional approach](../imgs/the_traditional_approach.png)\n",
    "\n",
    "**1.1 pav., Tradicinis programavimas**\n",
    "\n",
    "![Machine Learning approach](../imgs/machine_learning_approach.png)\n",
    "\n",
    "**1.2 pav., Mašininis mokymasis**\n"
   ]
  },
  {
   "cell_type": "markdown",
   "metadata": {},
   "source": []
  }
 ],
 "metadata": {
  "kernelspec": {
   "display_name": "py311",
   "language": "python",
   "name": "python3"
  },
  "language_info": {
   "name": "python",
   "version": "3.11.9"
  }
 },
 "nbformat": 4,
 "nbformat_minor": 2
}
