{
 "cells": [
  {
   "cell_type": "markdown",
   "metadata": {},
   "source": [
    "# Įvadas į mašininį mokymąsi"
   ]
  },
  {
   "cell_type": "markdown",
   "metadata": {},
   "source": [
    "### Trumpas apie\n",
    "\n",
    "- Mašininio mokymosi (MM, angl. *Machine Learning, ML*) sąvoka pirmą kartą paminėta dar 1959 m., IBM tyrėjo Arthur Samuel --   vieno iš dirbtinio intelekto (DI, angl. *Artificial Intelligence, AI*) srities pradininkų; dėl to, MM dažnai vadinamas DI mokslo šaka, apimančia įvairios intelektinės veiklos, kaip mokymosi, suvokimo, loginio mąstymo ir problemų sprendimo aspektus.  \n",
    "\n",
    "- \n"
   ]
  },
  {
   "cell_type": "markdown",
   "metadata": {},
   "source": []
  },
  {
   "cell_type": "markdown",
   "metadata": {},
   "source": []
  }
 ],
 "metadata": {
  "language_info": {
   "name": "python"
  }
 },
 "nbformat": 4,
 "nbformat_minor": 2
}
