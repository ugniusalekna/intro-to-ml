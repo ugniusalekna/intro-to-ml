{
 "cells": [
  {
   "cell_type": "markdown",
   "metadata": {},
   "source": [
    "# Įvadas į mašininį mokymąsi"
   ]
  },
  {
   "cell_type": "markdown",
   "metadata": {},
   "source": [
    "## Trumpas apie"
   ]
  },
  {
   "cell_type": "markdown",
   "metadata": {},
   "source": [
    "### Greita istorija\n",
    "\n",
    "- Mašininio mokymosi (MM, angl. *Machine Learning, ML*) sąvoka pirmą kartą paminėta dar 1959 m., IBM tyrėjo Arthur Samuel --   vieno iš dirbtinio intelekto (DI, angl. *Artificial Intelligence, AI*) srities pradininkų; dėl to, MM dažnai vadinamas DI mokslo šaka, apimančia įvairios intelektinės veiklos, kaip mokymosi, suvokimo, loginio mąstymo ir problemų sprendimo aspektus.  \n",
    "\n",
    "- Nuo to laiko, MM tapo savarankiška tarpdisciplinine sritimi. Joje daugiausia dėmesio skiriama mokymosi procesų automatizavimui panaudojant *tikimybių teorijos*, *statistikos*, *optimizavimo*, *informacijos teorijos* ir *algoritmų teorijos* rezultatus. \n",
    "\n",
    "- Dabar MM dažnai laikoma informatikos mokslų disciplina."
   ]
  },
  {
   "cell_type": "markdown",
   "metadata": {},
   "source": [
    "### Mokymasis iš duomenų\n",
    "\n",
    "- MM kontekste mokymosi sąvoka sutapatinama su *mokymosi iš duomenų* (angl. *learning from data*) sąvoka.\n",
    "\n",
    "- Mokymusi iš duomenų galima pavadinti procesą, kurio metu duomenyse esanti informacija \"suvirškinama\" ištraukiant esminius požymius bei, galiausiai, paverčiama rezultatais ar išvadomis. \n",
    "\n",
    "#### Pavyzdžiai (realūs)\n",
    "\n",
    "* Gydytojai, norėdami diagnozuoti ligą, analizuoja pacientų simptomus, ligos istorijas, tyrimų rezultatus (duomenis). Laikui bėgant, įgavę daugiau patirties, jie vis geriau atpažįsta simptomų ir tyrimų rezultatų dėsningumus, rodančius konkrečias ligas.\n",
    "\n",
    "* Vaikai klausosi juos supančios šnekamosios kalbos (duomenų). Laikui bėgant, bandydami mėgdžioti žodžius ir sakinius, jie išmoksta struktūrą ir taisykles."
   ]
  }
 ],
 "metadata": {
  "language_info": {
   "name": "python"
  }
 },
 "nbformat": 4,
 "nbformat_minor": 2
}
