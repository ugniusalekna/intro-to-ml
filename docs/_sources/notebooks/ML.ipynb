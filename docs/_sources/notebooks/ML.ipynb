{
 "cells": [
  {
   "cell_type": "markdown",
   "metadata": {},
   "source": [
    "# Įvadas į mašininį mokymąsi"
   ]
  },
  {
   "cell_type": "markdown",
   "metadata": {},
   "source": [
    "## Trumpas apie"
   ]
  },
  {
   "cell_type": "markdown",
   "metadata": {},
   "source": [
    "### Greita istorija\n",
    "\n",
    "- Mašininio mokymosi (MM, angl. *Machine Learning, ML*) sąvoka pirmą kartą paminėta dar 1959 m., IBM tyrėjo Arthur Samuel --   vieno iš dirbtinio intelekto (DI, angl. *Artificial Intelligence, AI*) srities pradininkų. MM dėl to dažnai vadinamas DI mokslo šaka, apimančia įvairios intelektinės veiklos, kaip mokymosi, suvokimo, loginio mąstymo ir problemų sprendimo aspektus.  \n",
    "\n",
    "- Nuo to laiko, MM tapo savarankiška tarpdisciplinine sritimi. Joje daugiausia dėmesio skiriama mokymosi procesų automatizavimui panaudojant *tikimybių teorijos*, *statistikos*, *optimizavimo*, *informacijos teorijos* ir *algoritmų teorijos* rezultatus. \n",
    "\n",
    "- Dabar MM dažnai laikoma *informatikos* mokslų disciplina."
   ]
  },
  {
   "cell_type": "markdown",
   "metadata": {},
   "source": [
    "### Mokymasis iš duomenų\n",
    "\n",
    "- MM kontekste mokymosi sąvoka sutapatinama su *mokymosi iš duomenų* (angl. *learning from data*) sąvoka.\n",
    "\n",
    "- Mokymusi iš duomenų galima pavadinti procesą, kurio metu duomenyse esanti informacija \"suvirškinama\" ištraukiant esminius požymius bei, galiausiai, paverčiama rezultatais ar išvadomis. \n",
    "\n",
    "---\n",
    "\n",
    "#### Pavyzdžiai (realūs)\n",
    "\n",
    "a) Gydytojai, norėdami diagnozuoti ligą, analizuoja pacientų simptomus, ligos istorijas, tyrimų rezultatus (duomenis). Įgaudami daugiau patirties, jie vis geriau atpažįsta simptomų ir tyrimų rezultatų dėsningumus, rodančius konkrečias ligas.\n",
    "\n",
    "b) Vaikai klausosi juos supančios šnekamosios kalbos (duomenų). Laikui bėgant, bandydami mėgdžioti žodžius ir sakinius, jie išmoksta struktūrą ir taisykles.\n",
    "\n",
    "---\n",
    "\n",
    "- Taigi, MM pastarąjį mokymąsi iš duomenų siekia aprašyti griežtai. \n",
    "\n",
    "- MM srityje dirbantys ekspertai siekia:\n",
    "    - aiškiai apibrėžti mokymosi iš duomenų sąvoką;\n",
    "    - kurti mokymosi modelius konkrečių uždavinių sprendimui;\n",
    "    - kiekybiškai įvertinti mokymuisi reikalingus resursus;\n",
    "    - vystyti efektyvius algoritmus, skirtus mokymosi automatizavimui;\n",
    "    - kurti specializuotą programinę įrangą mokymosi modeliams įgyvendinti.\n",
    "\n",
    "- MM sritis plėtojama įvairiai -- tiek taikant teorinę matematiką, siekiant apskaičiuoti įvairius įverčius ar užtikrinti teorines garantijas, tiek atliekant empirinius tyrimus, bandant palyginti algoritmų veikimus ar siekiant rasti tam tikras charakteristikas, tiek plėtojant praktinius programinės įrangos (angl. software) paketus."
   ]
  },
  {
   "cell_type": "markdown",
   "metadata": {},
   "source": [
    "This is some text before the line.\n",
    "\n",
    "<hr style=\"border: none; height: 2px; background-color: black;\">\n",
    "\n",
    "This is some text after the line.\n"
   ]
  },
  {
   "cell_type": "markdown",
   "metadata": {},
   "source": [
    "### Tradicinis programavimas vs. mašininis mokymasis\n",
    "\n",
    "\n"
   ]
  }
 ],
 "metadata": {
  "kernelspec": {
   "display_name": "py311",
   "language": "python",
   "name": "python3"
  },
  "language_info": {
   "name": "python",
   "version": "3.11.9"
  }
 },
 "nbformat": 4,
 "nbformat_minor": 2
}
