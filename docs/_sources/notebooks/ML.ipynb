{
 "cells": [
  {
   "cell_type": "markdown",
   "metadata": {},
   "source": [
    "# Įvadas į mašininį mokymąsi"
   ]
  },
  {
   "cell_type": "markdown",
   "metadata": {},
   "source": [
    "### Trumpas apie\n",
    "\n",
    "- Mašininio mokymosi (MM, angl. *Machine Learning, ML*) sąvoka pirmą kartą paminėta dar 1959 m., IBM tyrėjo Arthur Samuel --   vieno iš dirbtinio intelekto (DI, angl. *Artificial Intelligence, AI*) srities pradininkų; dėl to, MM dažnai vadinamas DI mokslo šaka, apimančia įvairios intelektinės veiklos, kaip mokymosi, suvokimo, loginio mąstymo ir problemų sprendimo aspektus.  \n",
    "\n",
    "- Nuo to laiko, MM tapo savarankiška tarpdisciplinine sritimi. Joje daugiausia dėmesio skiriama mokymosi procesų automatizavimui panaudojant tikimybių teorijos, statistikos, optimizavimo, informacijos teorijos ir algoritmų teorijos rezultatus. \n",
    "\n",
    "- Dabar MM dažnai laikoma informatikos mokslų disciplina.\n",
    "\n",
    "- "
   ]
  },
  {
   "cell_type": "markdown",
   "metadata": {},
   "source": []
  },
  {
   "cell_type": "markdown",
   "metadata": {},
   "source": []
  }
 ],
 "metadata": {
  "language_info": {
   "name": "python"
  }
 },
 "nbformat": 4,
 "nbformat_minor": 2
}
