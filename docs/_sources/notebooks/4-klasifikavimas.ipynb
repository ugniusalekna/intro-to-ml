{
 "cells": [
  {
   "cell_type": "markdown",
   "metadata": {},
   "source": [
    "# Hiperplokštumomis grįsti klasifikatoriai"
   ]
  },
  {
   "cell_type": "markdown",
   "metadata": {},
   "source": [
    "- Klasifikacijos uždavinio tikslas yra priskirti duomenų taškus vienai iš kelių galimų kategorijų. Skirtingai nuo regresijos, klasifikacijoje siekiama prognozuoti diskrečią reikšmę – klasės žymę (angl. label, target).\n",
    "\n",
    "- Klasifikavimo uždavinyje hipotezes įprasta vadinti *klasifikatoriais*. \n",
    "\n",
    "- Pradėsime nuo paprastesnių klasifikavimo uždavinių, kuomet klasių yra *dvi* (angl. binary classification).\n",
    "\n",
    "- *k-mate hiperplokštuma* vadiname aibės $\\mathbb{R}^k$ taškų poaibį $H(v, b) = \\{ \\textbf{x} \\in \\mathbb{R}^k \\mid \\textbf{x} \\cdot v + b = 0 \\}$, kur $v = (v_1, v_2, ..., v_k)^T \\in \\mathbb{R}^k$, $b \\in \\mathbb{R}$ – fiksuoti dydžiai, nusakantys hiperplokštumą. Pvz., dvimatėje erdvėje ši aibė būtų tiesė, trimatėje – plokštuma.\n",
    "\n",
    "- Paprasčiausi klasifikatorių modeliai gaunami bandant atskirti taškus $H(v, b)$ puserdviais $H^{+}(v, b) = \\{ \\textbf{x} \\in \\mathbb{R}^k \\mid \\textbf{x} \\cdot v + b \\geq 0 \\}$ ir $\\mathbb{R}^k \\setminus H^{+}(v, b)$, atitinkamai. Parametrų rinkinį $(v, b)$ kartais žymėsime $ w = (v, b) \\in \\mathbb{R}^{k+1}$.\n",
    "\n",
    "- Klasių aibė žymėsime $\\mathcal{Y} = \\{-1, 1\\}$. Tokiu atveju, pati paprasčiausia hipotezė yra laiptinė funkcija (angl. Heaviside step function), užrašoma:\n",
    "\n",
    "$$\n",
    "h_w(\\textbf{x}) = \\begin{cases} 1, \\text{ kai } \\textbf{x} \\in H^{+}(w), \\cr -1, \\text{ kai } \\textbf{x} \\in \\mathbb{R}^k \\setminus H^{+}(w) = \\left(H^{+}(w)\\right)^c, \\end{cases} = \\textbf{1}_{H^{+}(w)}(\\textbf{x}) - \\textbf{1}_{\\left(H^{+}(w)\\right)^c}(\\textbf{x}).\n",
    "$$\n"
   ]
  },
  {
   "cell_type": "markdown",
   "metadata": {},
   "source": []
  }
 ],
 "metadata": {
  "language_info": {
   "name": "python"
  }
 },
 "nbformat": 4,
 "nbformat_minor": 2
}
